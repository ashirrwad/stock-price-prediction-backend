{
  "nbformat": 4,
  "nbformat_minor": 0,
  "metadata": {
    "colab": {
      "name": "Stock_Prediction.ipynb",
      "provenance": [],
      "collapsed_sections": [],
      "include_colab_link": true
    },
    "kernelspec": {
      "name": "python3",
      "display_name": "Python 3"
    },
    "language_info": {
      "name": "python"
    }
  },
  "cells": [
    {
      "cell_type": "markdown",
      "metadata": {
        "id": "view-in-github",
        "colab_type": "text"
      },
      "source": [
        "<a href=\"https://colab.research.google.com/github/ashirrwad/stock-price-prediction-backend/blob/main/Stock_Prediction.ipynb\" target=\"_parent\"><img src=\"https://colab.research.google.com/assets/colab-badge.svg\" alt=\"Open In Colab\"/></a>"
      ]
    },
    {
      "cell_type": "code",
      "metadata": {
        "id": "YxsP-pflivCr"
      },
      "source": [
        "from alpha_vantage.timeseries import TimeSeries\n",
        "import pandas as pd\n",
        "import numpy as np\n",
        "from statsmodels.tsa.arima_model import ARIMA\n",
        "from sklearn.metrics import mean_squared_error\n",
        "import matplotlib.pyplot as plt\n",
        "plt.style.use('ggplot')\n",
        "import math, random\n",
        "from datetime import datetime\n",
        "import datetime as dt\n",
        "import yfinance as yf\n",
        "import preprocessor as p\n",
        "import re\n",
        "from sklearn.linear_model import LinearRegression\n",
        "from textblob import TextBlob"
      ],
      "execution_count": null,
      "outputs": []
    },
    {
      "cell_type": "code",
      "metadata": {
        "id": "iqz_VGHBNCBi",
        "colab": {
          "base_uri": "https://localhost:8080/",
          "height": 1000
        },
        "outputId": "a62d33ed-4f19-4fcc-e500-36eab541546f"
      },
      "source": [
        "!pip install -r requirements.txt"
      ],
      "execution_count": null,
      "outputs": [
        {
          "output_type": "stream",
          "text": [
            "Collecting https://pypi.anaconda.org/berber/simple/tweet-preprocessor/0.5.0/tweet-preprocessor-0.5.0.tar.gz (from -r requirements.txt (line 16))\n",
            "  Downloading https://pypi.anaconda.org/berber/simple/tweet-preprocessor/0.5.0/tweet-preprocessor-0.5.0.tar.gz\n",
            "Requirement already satisfied: tensorflow==2.4.1 in /usr/local/lib/python3.7/dist-packages (from -r requirements.txt (line 1)) (2.4.1)\n",
            "Collecting nltk==3.5\n",
            "\u001b[?25l  Downloading https://files.pythonhosted.org/packages/92/75/ce35194d8e3022203cca0d2f896dbb88689f9b3fce8e9f9cff942913519d/nltk-3.5.zip (1.4MB)\n",
            "\u001b[K     |████████████████████████████████| 1.4MB 4.3MB/s \n",
            "\u001b[?25hRequirement already satisfied: keras==2.4.3 in /usr/local/lib/python3.7/dist-packages (from -r requirements.txt (line 3)) (2.4.3)\n",
            "Requirement already satisfied: numpy==1.19.5 in /usr/local/lib/python3.7/dist-packages (from -r requirements.txt (line 4)) (1.19.5)\n",
            "Collecting streamlit==0.52.1\n",
            "\u001b[?25l  Downloading https://files.pythonhosted.org/packages/1d/0a/9334362a9ec7f34d0d7d6846e3c54d09f9d97ab37325602414c6495535bc/streamlit-0.52.1-py2.py3-none-any.whl (4.4MB)\n",
            "\u001b[K     |████████████████████████████████| 4.4MB 33.8MB/s \n",
            "\u001b[?25hRequirement already satisfied: seaborn==0.11.1 in /usr/local/lib/python3.7/dist-packages (from -r requirements.txt (line 6)) (0.11.1)\n",
            "Requirement already satisfied: tweepy==3.10.0 in /usr/local/lib/python3.7/dist-packages (from -r requirements.txt (line 7)) (3.10.0)\n",
            "Requirement already satisfied: textblob==0.15.3 in /usr/local/lib/python3.7/dist-packages (from -r requirements.txt (line 8)) (0.15.3)\n",
            "Requirement already satisfied: flask==1.1.2 in /usr/local/lib/python3.7/dist-packages (from -r requirements.txt (line 9)) (1.1.2)\n",
            "Collecting pandas==1.2.2\n",
            "\u001b[?25l  Downloading https://files.pythonhosted.org/packages/4c/33/87b15a5baeeb71bd677da3579f907e97476c5247c0e56a37079843af5424/pandas-1.2.2-cp37-cp37m-manylinux1_x86_64.whl (9.9MB)\n",
            "\u001b[K     |████████████████████████████████| 9.9MB 28.3MB/s \n",
            "\u001b[?25hCollecting matplotlib==3.2\n",
            "\u001b[?25l  Downloading https://files.pythonhosted.org/packages/6c/ab/e1585a7101f8f7047376b59274ada50fefd637bd4cd99d2125a1b730845a/matplotlib-3.2.0-cp37-cp37m-manylinux1_x86_64.whl (12.4MB)\n",
            "\u001b[K     |████████████████████████████████| 12.4MB 166kB/s \n",
            "\u001b[?25hCollecting scikit_learn==0.24.1\n",
            "\u001b[?25l  Downloading https://files.pythonhosted.org/packages/f3/74/eb899f41d55f957e2591cde5528e75871f817d9fb46d4732423ecaca736d/scikit_learn-0.24.1-cp37-cp37m-manylinux2010_x86_64.whl (22.3MB)\n",
            "\u001b[K     |████████████████████████████████| 22.3MB 65.0MB/s \n",
            "\u001b[?25hCollecting statsmodels==0.12.2\n",
            "\u001b[?25l  Downloading https://files.pythonhosted.org/packages/da/69/8eef30a6237c54f3c0b524140e2975f4b1eea3489b45eb3339574fc8acee/statsmodels-0.12.2-cp37-cp37m-manylinux1_x86_64.whl (9.5MB)\n",
            "\u001b[K     |████████████████████████████████| 9.5MB 33.3MB/s \n",
            "\u001b[?25hCollecting yfinance==0.1.54\n",
            "  Downloading https://files.pythonhosted.org/packages/c2/31/8b374a12b90def92a4e27d0fc595fc43635f395984e36a075244d98bd265/yfinance-0.1.54.tar.gz\n",
            "Collecting alpha_vantage==2.3.1\n",
            "  Downloading https://files.pythonhosted.org/packages/ba/b4/d95f9e0eccea6732bab5a079772d453a4f0b68a9f63740d9cf320f92beaa/alpha_vantage-2.3.1-py3-none-any.whl\n",
            "Requirement already satisfied: google-pasta~=0.2 in /usr/local/lib/python3.7/dist-packages (from tensorflow==2.4.1->-r requirements.txt (line 1)) (0.2.0)\n",
            "Requirement already satisfied: termcolor~=1.1.0 in /usr/local/lib/python3.7/dist-packages (from tensorflow==2.4.1->-r requirements.txt (line 1)) (1.1.0)\n",
            "Requirement already satisfied: wrapt~=1.12.1 in /usr/local/lib/python3.7/dist-packages (from tensorflow==2.4.1->-r requirements.txt (line 1)) (1.12.1)\n",
            "Requirement already satisfied: tensorboard~=2.4 in /usr/local/lib/python3.7/dist-packages (from tensorflow==2.4.1->-r requirements.txt (line 1)) (2.4.1)\n",
            "Requirement already satisfied: h5py~=2.10.0 in /usr/local/lib/python3.7/dist-packages (from tensorflow==2.4.1->-r requirements.txt (line 1)) (2.10.0)\n",
            "Requirement already satisfied: typing-extensions~=3.7.4 in /usr/local/lib/python3.7/dist-packages (from tensorflow==2.4.1->-r requirements.txt (line 1)) (3.7.4.3)\n",
            "Requirement already satisfied: six~=1.15.0 in /usr/local/lib/python3.7/dist-packages (from tensorflow==2.4.1->-r requirements.txt (line 1)) (1.15.0)\n",
            "Requirement already satisfied: wheel~=0.35 in /usr/local/lib/python3.7/dist-packages (from tensorflow==2.4.1->-r requirements.txt (line 1)) (0.36.2)\n",
            "Requirement already satisfied: flatbuffers~=1.12.0 in /usr/local/lib/python3.7/dist-packages (from tensorflow==2.4.1->-r requirements.txt (line 1)) (1.12)\n",
            "Requirement already satisfied: tensorflow-estimator<2.5.0,>=2.4.0 in /usr/local/lib/python3.7/dist-packages (from tensorflow==2.4.1->-r requirements.txt (line 1)) (2.4.0)\n",
            "Requirement already satisfied: keras-preprocessing~=1.1.2 in /usr/local/lib/python3.7/dist-packages (from tensorflow==2.4.1->-r requirements.txt (line 1)) (1.1.2)\n",
            "Requirement already satisfied: opt-einsum~=3.3.0 in /usr/local/lib/python3.7/dist-packages (from tensorflow==2.4.1->-r requirements.txt (line 1)) (3.3.0)\n",
            "Requirement already satisfied: astunparse~=1.6.3 in /usr/local/lib/python3.7/dist-packages (from tensorflow==2.4.1->-r requirements.txt (line 1)) (1.6.3)\n",
            "Requirement already satisfied: absl-py~=0.10 in /usr/local/lib/python3.7/dist-packages (from tensorflow==2.4.1->-r requirements.txt (line 1)) (0.12.0)\n",
            "Requirement already satisfied: protobuf>=3.9.2 in /usr/local/lib/python3.7/dist-packages (from tensorflow==2.4.1->-r requirements.txt (line 1)) (3.12.4)\n",
            "Requirement already satisfied: gast==0.3.3 in /usr/local/lib/python3.7/dist-packages (from tensorflow==2.4.1->-r requirements.txt (line 1)) (0.3.3)\n",
            "Requirement already satisfied: grpcio~=1.32.0 in /usr/local/lib/python3.7/dist-packages (from tensorflow==2.4.1->-r requirements.txt (line 1)) (1.32.0)\n",
            "Requirement already satisfied: click in /usr/local/lib/python3.7/dist-packages (from nltk==3.5->-r requirements.txt (line 2)) (7.1.2)\n",
            "Requirement already satisfied: joblib in /usr/local/lib/python3.7/dist-packages (from nltk==3.5->-r requirements.txt (line 2)) (1.0.1)\n",
            "Requirement already satisfied: regex in /usr/local/lib/python3.7/dist-packages (from nltk==3.5->-r requirements.txt (line 2)) (2019.12.20)\n",
            "Requirement already satisfied: tqdm in /usr/local/lib/python3.7/dist-packages (from nltk==3.5->-r requirements.txt (line 2)) (4.41.1)\n",
            "Requirement already satisfied: scipy>=0.14 in /usr/local/lib/python3.7/dist-packages (from keras==2.4.3->-r requirements.txt (line 3)) (1.4.1)\n",
            "Requirement already satisfied: pyyaml in /usr/local/lib/python3.7/dist-packages (from keras==2.4.3->-r requirements.txt (line 3)) (3.13)\n",
            "Collecting watchdog\n",
            "\u001b[?25l  Downloading https://files.pythonhosted.org/packages/c6/ba/a36ca5b4e75649a002f06531862467b3eb5c768caa23d6d88b921fe238d8/watchdog-2.0.2-py3-none-manylinux2014_x86_64.whl (74kB)\n",
            "\u001b[K     |████████████████████████████████| 81kB 5.2MB/s \n",
            "\u001b[?25hCollecting blinker\n",
            "\u001b[?25l  Downloading https://files.pythonhosted.org/packages/1b/51/e2a9f3b757eb802f61dc1f2b09c8c99f6eb01cf06416c0671253536517b6/blinker-1.4.tar.gz (111kB)\n",
            "\u001b[K     |████████████████████████████████| 112kB 52.6MB/s \n",
            "\u001b[?25hRequirement already satisfied: future in /usr/local/lib/python3.7/dist-packages (from streamlit==0.52.1->-r requirements.txt (line 5)) (0.16.0)\n",
            "Requirement already satisfied: requests in /usr/local/lib/python3.7/dist-packages (from streamlit==0.52.1->-r requirements.txt (line 5)) (2.23.0)\n",
            "Collecting enum-compat\n",
            "  Downloading https://files.pythonhosted.org/packages/55/ae/467bc4509246283bb59746e21a1a2f5a8aecbef56b1fa6eaca78cd438c8b/enum_compat-0.0.3-py3-none-any.whl\n",
            "Requirement already satisfied: tornado<6.0,>=5.0 in /usr/local/lib/python3.7/dist-packages (from streamlit==0.52.1->-r requirements.txt (line 5)) (5.1.1)\n",
            "Requirement already satisfied: tzlocal in /usr/local/lib/python3.7/dist-packages (from streamlit==0.52.1->-r requirements.txt (line 5)) (1.5.1)\n",
            "Requirement already satisfied: astor in /usr/local/lib/python3.7/dist-packages (from streamlit==0.52.1->-r requirements.txt (line 5)) (0.8.1)\n",
            "Requirement already satisfied: altair>=3.2.0 in /usr/local/lib/python3.7/dist-packages (from streamlit==0.52.1->-r requirements.txt (line 5)) (4.1.0)\n",
            "Collecting python-dateutil<=2.8.0\n",
            "\u001b[?25l  Downloading https://files.pythonhosted.org/packages/41/17/c62faccbfbd163c7f57f3844689e3a78bae1f403648a6afb1d0866d87fbb/python_dateutil-2.8.0-py2.py3-none-any.whl (226kB)\n",
            "\u001b[K     |████████████████████████████████| 235kB 39.9MB/s \n",
            "\u001b[?25hCollecting base58\n",
            "  Downloading https://files.pythonhosted.org/packages/b8/a1/d9f565e9910c09fd325dc638765e8843a19fa696275c16cc08cf3b0a3c25/base58-2.1.0-py3-none-any.whl\n",
            "Collecting boto3\n",
            "\u001b[?25l  Downloading https://files.pythonhosted.org/packages/9f/2d/f094ea90db0ede94ed85cf843da694e18343feed686241af86743f583b00/boto3-1.17.47-py2.py3-none-any.whl (131kB)\n",
            "\u001b[K     |████████████████████████████████| 133kB 43.3MB/s \n",
            "\u001b[?25hCollecting botocore\n",
            "\u001b[?25l  Downloading https://files.pythonhosted.org/packages/d4/ea/f4a64444f6a4f222ceff3565528c2b9f96083da7bddcc3ef7e96ec5cd77a/botocore-1.20.47-py2.py3-none-any.whl (7.4MB)\n",
            "\u001b[K     |████████████████████████████████| 7.4MB 43.9MB/s \n",
            "\u001b[?25hRequirement already satisfied: toml in /usr/local/lib/python3.7/dist-packages (from streamlit==0.52.1->-r requirements.txt (line 5)) (0.10.2)\n",
            "Collecting validators\n",
            "  Downloading https://files.pythonhosted.org/packages/db/2f/7fed3ee94ad665ad2c1de87f858f10a7785251ff75b4fd47987888d07ef1/validators-0.18.2-py3-none-any.whl\n",
            "Requirement already satisfied: pillow>=6.2.0 in /usr/local/lib/python3.7/dist-packages (from streamlit==0.52.1->-r requirements.txt (line 5)) (7.1.2)\n",
            "Requirement already satisfied: requests-oauthlib>=0.7.0 in /usr/local/lib/python3.7/dist-packages (from tweepy==3.10.0->-r requirements.txt (line 7)) (1.3.0)\n",
            "Requirement already satisfied: Werkzeug>=0.15 in /usr/local/lib/python3.7/dist-packages (from flask==1.1.2->-r requirements.txt (line 9)) (1.0.1)\n",
            "Requirement already satisfied: itsdangerous>=0.24 in /usr/local/lib/python3.7/dist-packages (from flask==1.1.2->-r requirements.txt (line 9)) (1.1.0)\n",
            "Requirement already satisfied: Jinja2>=2.10.1 in /usr/local/lib/python3.7/dist-packages (from flask==1.1.2->-r requirements.txt (line 9)) (2.11.3)\n",
            "Requirement already satisfied: pytz>=2017.3 in /usr/local/lib/python3.7/dist-packages (from pandas==1.2.2->-r requirements.txt (line 10)) (2018.9)\n",
            "Requirement already satisfied: cycler>=0.10 in /usr/local/lib/python3.7/dist-packages (from matplotlib==3.2->-r requirements.txt (line 11)) (0.10.0)\n",
            "Requirement already satisfied: pyparsing!=2.0.4,!=2.1.2,!=2.1.6,>=2.0.1 in /usr/local/lib/python3.7/dist-packages (from matplotlib==3.2->-r requirements.txt (line 11)) (2.4.7)\n",
            "Requirement already satisfied: kiwisolver>=1.0.1 in /usr/local/lib/python3.7/dist-packages (from matplotlib==3.2->-r requirements.txt (line 11)) (1.3.1)\n",
            "Collecting threadpoolctl>=2.0.0\n",
            "  Downloading https://files.pythonhosted.org/packages/f7/12/ec3f2e203afa394a149911729357aa48affc59c20e2c1c8297a60f33f133/threadpoolctl-2.1.0-py3-none-any.whl\n",
            "Requirement already satisfied: patsy>=0.5 in /usr/local/lib/python3.7/dist-packages (from statsmodels==0.12.2->-r requirements.txt (line 13)) (0.5.1)\n",
            "Requirement already satisfied: multitasking>=0.0.7 in /usr/local/lib/python3.7/dist-packages (from yfinance==0.1.54->-r requirements.txt (line 14)) (0.0.9)\n",
            "Collecting aiohttp\n",
            "\u001b[?25l  Downloading https://files.pythonhosted.org/packages/88/c0/5890b4c8b04a79b7360e8fe4490feb0bb3ab179743f199f0e6220cebd568/aiohttp-3.7.4.post0-cp37-cp37m-manylinux2014_x86_64.whl (1.3MB)\n",
            "\u001b[K     |████████████████████████████████| 1.3MB 35.8MB/s \n",
            "\u001b[?25hRequirement already satisfied: markdown>=2.6.8 in /usr/local/lib/python3.7/dist-packages (from tensorboard~=2.4->tensorflow==2.4.1->-r requirements.txt (line 1)) (3.3.4)\n",
            "Requirement already satisfied: google-auth<2,>=1.6.3 in /usr/local/lib/python3.7/dist-packages (from tensorboard~=2.4->tensorflow==2.4.1->-r requirements.txt (line 1)) (1.28.0)\n",
            "Requirement already satisfied: tensorboard-plugin-wit>=1.6.0 in /usr/local/lib/python3.7/dist-packages (from tensorboard~=2.4->tensorflow==2.4.1->-r requirements.txt (line 1)) (1.8.0)\n",
            "Requirement already satisfied: setuptools>=41.0.0 in /usr/local/lib/python3.7/dist-packages (from tensorboard~=2.4->tensorflow==2.4.1->-r requirements.txt (line 1)) (54.2.0)\n",
            "Requirement already satisfied: google-auth-oauthlib<0.5,>=0.4.1 in /usr/local/lib/python3.7/dist-packages (from tensorboard~=2.4->tensorflow==2.4.1->-r requirements.txt (line 1)) (0.4.3)\n",
            "Requirement already satisfied: chardet<4,>=3.0.2 in /usr/local/lib/python3.7/dist-packages (from requests->streamlit==0.52.1->-r requirements.txt (line 5)) (3.0.4)\n",
            "Requirement already satisfied: certifi>=2017.4.17 in /usr/local/lib/python3.7/dist-packages (from requests->streamlit==0.52.1->-r requirements.txt (line 5)) (2020.12.5)\n",
            "Requirement already satisfied: urllib3!=1.25.0,!=1.25.1,<1.26,>=1.21.1 in /usr/local/lib/python3.7/dist-packages (from requests->streamlit==0.52.1->-r requirements.txt (line 5)) (1.24.3)\n",
            "Requirement already satisfied: idna<3,>=2.5 in /usr/local/lib/python3.7/dist-packages (from requests->streamlit==0.52.1->-r requirements.txt (line 5)) (2.10)\n",
            "Requirement already satisfied: jsonschema in /usr/local/lib/python3.7/dist-packages (from altair>=3.2.0->streamlit==0.52.1->-r requirements.txt (line 5)) (2.6.0)\n",
            "Requirement already satisfied: toolz in /usr/local/lib/python3.7/dist-packages (from altair>=3.2.0->streamlit==0.52.1->-r requirements.txt (line 5)) (0.11.1)\n",
            "Requirement already satisfied: entrypoints in /usr/local/lib/python3.7/dist-packages (from altair>=3.2.0->streamlit==0.52.1->-r requirements.txt (line 5)) (0.3)\n",
            "Collecting jmespath<1.0.0,>=0.7.1\n",
            "  Downloading https://files.pythonhosted.org/packages/07/cb/5f001272b6faeb23c1c9e0acc04d48eaaf5c862c17709d20e3469c6e0139/jmespath-0.10.0-py2.py3-none-any.whl\n",
            "Collecting s3transfer<0.4.0,>=0.3.0\n",
            "\u001b[?25l  Downloading https://files.pythonhosted.org/packages/98/14/0b4be62b65c52d6d1c442f24e02d2a9889a73d3c352002e14c70f84a679f/s3transfer-0.3.6-py2.py3-none-any.whl (73kB)\n",
            "\u001b[K     |████████████████████████████████| 81kB 6.3MB/s \n",
            "\u001b[?25hRequirement already satisfied: decorator>=3.4.0 in /usr/local/lib/python3.7/dist-packages (from validators->streamlit==0.52.1->-r requirements.txt (line 5)) (4.4.2)\n",
            "Requirement already satisfied: oauthlib>=3.0.0 in /usr/local/lib/python3.7/dist-packages (from requests-oauthlib>=0.7.0->tweepy==3.10.0->-r requirements.txt (line 7)) (3.1.0)\n",
            "Requirement already satisfied: MarkupSafe>=0.23 in /usr/local/lib/python3.7/dist-packages (from Jinja2>=2.10.1->flask==1.1.2->-r requirements.txt (line 9)) (1.1.1)\n",
            "Collecting multidict<7.0,>=4.5\n",
            "\u001b[?25l  Downloading https://files.pythonhosted.org/packages/7c/a6/4123b8165acbe773d1a8dc8e3f0d1edea16d29f7de018eda769abb56bd30/multidict-5.1.0-cp37-cp37m-manylinux2014_x86_64.whl (142kB)\n",
            "\u001b[K     |████████████████████████████████| 143kB 37.1MB/s \n",
            "\u001b[?25hCollecting async-timeout<4.0,>=3.0\n",
            "  Downloading https://files.pythonhosted.org/packages/e1/1e/5a4441be21b0726c4464f3f23c8b19628372f606755a9d2e46c187e65ec4/async_timeout-3.0.1-py3-none-any.whl\n",
            "Requirement already satisfied: attrs>=17.3.0 in /usr/local/lib/python3.7/dist-packages (from aiohttp->alpha_vantage==2.3.1->-r requirements.txt (line 15)) (20.3.0)\n",
            "Collecting yarl<2.0,>=1.0\n",
            "\u001b[?25l  Downloading https://files.pythonhosted.org/packages/f1/62/046834c5fc998c88ab2ef722f5d42122230a632212c8afa76418324f53ff/yarl-1.6.3-cp37-cp37m-manylinux2014_x86_64.whl (294kB)\n",
            "\u001b[K     |████████████████████████████████| 296kB 30.9MB/s \n",
            "\u001b[?25hRequirement already satisfied: importlib-metadata; python_version < \"3.8\" in /usr/local/lib/python3.7/dist-packages (from markdown>=2.6.8->tensorboard~=2.4->tensorflow==2.4.1->-r requirements.txt (line 1)) (3.8.1)\n",
            "Requirement already satisfied: pyasn1-modules>=0.2.1 in /usr/local/lib/python3.7/dist-packages (from google-auth<2,>=1.6.3->tensorboard~=2.4->tensorflow==2.4.1->-r requirements.txt (line 1)) (0.2.8)\n",
            "Requirement already satisfied: rsa<5,>=3.1.4; python_version >= \"3.6\" in /usr/local/lib/python3.7/dist-packages (from google-auth<2,>=1.6.3->tensorboard~=2.4->tensorflow==2.4.1->-r requirements.txt (line 1)) (4.7.2)\n",
            "Requirement already satisfied: cachetools<5.0,>=2.0.0 in /usr/local/lib/python3.7/dist-packages (from google-auth<2,>=1.6.3->tensorboard~=2.4->tensorflow==2.4.1->-r requirements.txt (line 1)) (4.2.1)\n",
            "Requirement already satisfied: zipp>=0.5 in /usr/local/lib/python3.7/dist-packages (from importlib-metadata; python_version < \"3.8\"->markdown>=2.6.8->tensorboard~=2.4->tensorflow==2.4.1->-r requirements.txt (line 1)) (3.4.1)\n",
            "Requirement already satisfied: pyasn1<0.5.0,>=0.4.6 in /usr/local/lib/python3.7/dist-packages (from pyasn1-modules>=0.2.1->google-auth<2,>=1.6.3->tensorboard~=2.4->tensorflow==2.4.1->-r requirements.txt (line 1)) (0.4.8)\n",
            "Building wheels for collected packages: nltk, yfinance, tweet-preprocessor, blinker\n",
            "  Building wheel for nltk (setup.py) ... \u001b[?25l\u001b[?25hdone\n",
            "  Created wheel for nltk: filename=nltk-3.5-cp37-none-any.whl size=1434674 sha256=bf45fd02e7d9a85fa4c52e2f3db07ee159457615a66835708b6dcf77d71bf9a8\n",
            "  Stored in directory: /root/.cache/pip/wheels/ae/8c/3f/b1fe0ba04555b08b57ab52ab7f86023639a526d8bc8d384306\n",
            "  Building wheel for yfinance (setup.py) ... \u001b[?25l\u001b[?25hdone\n",
            "  Created wheel for yfinance: filename=yfinance-0.1.54-py2.py3-none-any.whl size=22410 sha256=5a8bcd902e02c6ec6e5add26b0fa37ea288babd2e7e33b68508dfdbb33c016d2\n",
            "  Stored in directory: /root/.cache/pip/wheels/f9/e3/5b/ec24dd2984b12d61e0abf26289746c2436a0e7844f26f2515c\n",
            "  Building wheel for tweet-preprocessor (setup.py) ... \u001b[?25l\u001b[?25hdone\n",
            "  Created wheel for tweet-preprocessor: filename=tweet_preprocessor-0.5.0-cp37-none-any.whl size=8058 sha256=f639c35322d62a3cf7cb08539883ecdd848c96b59928aca442a0594afd194b4b\n",
            "  Stored in directory: /root/.cache/pip/wheels/8c/2d/f9/d7385f53a1708247a9ad1399b20e9cd54812af8f8e63978ed5\n",
            "  Building wheel for blinker (setup.py) ... \u001b[?25l\u001b[?25hdone\n",
            "  Created wheel for blinker: filename=blinker-1.4-cp37-none-any.whl size=13448 sha256=0a3603d67bea4738edd542e0492ccaba447cbb1c4718aeb909f120add04ad5a4\n",
            "  Stored in directory: /root/.cache/pip/wheels/92/a0/00/8690a57883956a301d91cf4ec999cc0b258b01e3f548f86e89\n",
            "Successfully built nltk yfinance tweet-preprocessor blinker\n",
            "\u001b[31mERROR: google-colab 1.0.0 has requirement pandas~=1.1.0; python_version >= \"3.0\", but you'll have pandas 1.2.2 which is incompatible.\u001b[0m\n",
            "\u001b[31mERROR: albumentations 0.1.12 has requirement imgaug<0.2.7,>=0.2.5, but you'll have imgaug 0.2.9 which is incompatible.\u001b[0m\n",
            "\u001b[31mERROR: botocore 1.20.47 has requirement urllib3<1.27,>=1.25.4, but you'll have urllib3 1.24.3 which is incompatible.\u001b[0m\n",
            "Installing collected packages: nltk, watchdog, blinker, enum-compat, python-dateutil, pandas, base58, jmespath, botocore, s3transfer, boto3, validators, streamlit, matplotlib, threadpoolctl, scikit-learn, statsmodels, yfinance, multidict, async-timeout, yarl, aiohttp, alpha-vantage, tweet-preprocessor\n",
            "  Found existing installation: nltk 3.2.5\n",
            "    Uninstalling nltk-3.2.5:\n",
            "      Successfully uninstalled nltk-3.2.5\n",
            "  Found existing installation: python-dateutil 2.8.1\n",
            "    Uninstalling python-dateutil-2.8.1:\n",
            "      Successfully uninstalled python-dateutil-2.8.1\n",
            "  Found existing installation: pandas 1.1.5\n",
            "    Uninstalling pandas-1.1.5:\n",
            "      Successfully uninstalled pandas-1.1.5\n",
            "  Found existing installation: matplotlib 3.2.2\n",
            "    Uninstalling matplotlib-3.2.2:\n",
            "      Successfully uninstalled matplotlib-3.2.2\n",
            "  Found existing installation: scikit-learn 0.22.2.post1\n",
            "    Uninstalling scikit-learn-0.22.2.post1:\n",
            "      Successfully uninstalled scikit-learn-0.22.2.post1\n",
            "  Found existing installation: statsmodels 0.10.2\n",
            "    Uninstalling statsmodels-0.10.2:\n",
            "      Successfully uninstalled statsmodels-0.10.2\n",
            "Successfully installed aiohttp-3.7.4.post0 alpha-vantage-2.3.1 async-timeout-3.0.1 base58-2.1.0 blinker-1.4 boto3-1.17.47 botocore-1.20.47 enum-compat-0.0.3 jmespath-0.10.0 matplotlib-3.2.0 multidict-5.1.0 nltk-3.5 pandas-1.2.2 python-dateutil-2.8.0 s3transfer-0.3.6 scikit-learn-0.24.1 statsmodels-0.12.2 streamlit-0.52.1 threadpoolctl-2.1.0 tweet-preprocessor-0.5.0 validators-0.18.2 watchdog-2.0.2 yarl-1.6.3 yfinance-0.1.54\n"
          ],
          "name": "stdout"
        },
        {
          "output_type": "display_data",
          "data": {
            "application/vnd.colab-display-data+json": {
              "pip_warning": {
                "packages": [
                  "dateutil",
                  "matplotlib",
                  "mpl_toolkits",
                  "pandas"
                ]
              }
            }
          },
          "metadata": {
            "tags": []
          }
        }
      ]
    },
    {
      "cell_type": "code",
      "metadata": {
        "id": "yiDgZ3TnjB_v"
      },
      "source": [
        "import warnings\n",
        "warnings.filterwarnings(\"ignore\")\n",
        "import os\n",
        "os.environ['TF_CPP_MIN_LOG_LEVEL'] = '3'"
      ],
      "execution_count": null,
      "outputs": []
    },
    {
      "cell_type": "code",
      "metadata": {
        "id": "uwO7TVCQlNae"
      },
      "source": [
        "#**************** FUNCTIONS TO FETCH DATA ***************************\n",
        "def get_historical(quote):\n",
        "    end = datetime.now()\n",
        "    start = datetime(end.year-2,end.month,end.day)\n",
        "    data = yf.download(quote, start=start, end=end)\n",
        "    df = pd.DataFrame(data=data)\n",
        "    df.to_csv(''+quote+'.csv')\n",
        "    if(df.empty):\n",
        "        ts = TimeSeries(key='I0TWC260RP30RMO5',output_format='pandas')\n",
        "        data, meta_data = ts.get_daily_adjusted(symbol='NSE:'+quote, outputsize='full')\n",
        "        #Format df\n",
        "        #Last 2 yrs rows => 502, in ascending order => ::-1\n",
        "        data=data.head(503).iloc[::-1]\n",
        "        data=data.reset_index()\n",
        "        #Keep Required cols only\n",
        "        df=pd.DataFrame()\n",
        "        df['Date']=data['date']\n",
        "        df['Open']=data['1. open']\n",
        "        df['High']=data['2. high']\n",
        "        df['Low']=data['3. low']\n",
        "        df['Close']=data['4. close']\n",
        "        df['Adj Close']=data['5. adjusted close']\n",
        "        df['Volume']=data['6. volume']\n",
        "        df.to_csv(''+quote+'.csv',index=False)\n",
        "    return"
      ],
      "execution_count": null,
      "outputs": []
    },
    {
      "cell_type": "markdown",
      "metadata": {
        "id": "VnbNdp1poBfD"
      },
      "source": [
        "\n",
        "\n",
        "```\n",
        "# This is formatted as code\n",
        "```\n",
        "\n"
      ]
    },
    {
      "cell_type": "code",
      "metadata": {
        "id": "JkCb7rGHltJQ"
      },
      "source": [
        "#******************** ARIMA SECTION ********************\n",
        "def ARIMA_ALGO(df):\n",
        "    uniqueVals = df[\"Code\"].unique()  \n",
        "    len(uniqueVals)\n",
        "    df=df.set_index(\"Code\")\n",
        "    #for daily basis\n",
        "    def parser(x):\n",
        "        return datetime.strptime(x, '%Y-%m-%d')\n",
        "    def arima_model(train, test):\n",
        "        history = [x for x in train]\n",
        "        predictions = list()\n",
        "        for t in range(len(test)):\n",
        "            model = ARIMA(history, order=(6,1 ,0))\n",
        "            model_fit = model.fit(disp=0)\n",
        "            output = model_fit.forecast()\n",
        "            yhat = output[0]\n",
        "            predictions.append(yhat[0])\n",
        "            obs = test[t]\n",
        "            history.append(obs)\n",
        "        return predictions\n",
        "    for company in uniqueVals[:10]:\n",
        "        data=(df.loc[company,:]).reset_index()\n",
        "        data['Price'] = data['Close']\n",
        "        Quantity_date = data[['Price','Date']]\n",
        "        Quantity_date.index = Quantity_date['Date'].map(lambda x: parser(x))\n",
        "        Quantity_date['Price'] = Quantity_date['Price'].map(lambda x: float(x))\n",
        "        Quantity_date = Quantity_date.fillna(Quantity_date.bfill())\n",
        "        Quantity_date = Quantity_date.drop(['Date'],axis =1)\n",
        "        fig = plt.figure(figsize=(7.2,4.8),dpi=65)\n",
        "        plt.plot(Quantity_date)\n",
        "        #plt.savefig('Trends.png')\n",
        "        #plt.close(fig)\n",
        "        \n",
        "        quantity = Quantity_date.values\n",
        "        size = int(len(quantity) * 0.80)\n",
        "        train, test = quantity[0:size], quantity[size:len(quantity)]\n",
        "        #fit in model\n",
        "        predictions = arima_model(train, test)\n",
        "        \n",
        "        #plot graph\n",
        "        fig = plt.figure(figsize=(7.2,4.8),dpi=65)\n",
        "        plt.plot(test,label='Actual Price')\n",
        "        plt.plot(predictions,label='Predicted Price')\n",
        "        plt.legend(loc=4)\n",
        "        #plt.savefig('ARIMA.png')\n",
        "        #plt.close(fig)\n",
        "        print()\n",
        "        print(\"##############################################################################\")\n",
        "        arima_pred=predictions[-2]\n",
        "        print(\"Tomorrow's\",quote,\" Closing Price Prediction by ARIMA:\",arima_pred)\n",
        "        #rmse calculation\n",
        "        error_arima = math.sqrt(mean_squared_error(test, predictions))\n",
        "        print(\"ARIMA RMSE:\",error_arima)\n",
        "        print(\"##############################################################################\")\n",
        "        return arima_pred, error_arima"
      ],
      "execution_count": null,
      "outputs": []
    },
    {
      "cell_type": "code",
      "metadata": {
        "id": "n1T4QgsPl-3N"
      },
      "source": [
        "#************* LSTM SECTION **********************\n",
        "\n",
        "def LSTM_ALGO(df):\n",
        "    #Split data into training set and test set\n",
        "    dataset_train=df.iloc[0:int(0.8*len(df)),:]\n",
        "    dataset_test=df.iloc[int(0.8*len(df)):,:]\n",
        "    ############# NOTE #################\n",
        "    #TO PREDICT STOCK PRICES OF NEXT N DAYS, STORE PREVIOUS N DAYS IN MEMORY WHILE TRAINING\n",
        "    # HERE N=7\n",
        "    ###dataset_train=pd.read_csv('Google_Stock_Price_Train.csv')\n",
        "    training_set=df.iloc[:,4:5].values# 1:2, to store as numpy array else Series obj will be stored\n",
        "    #select cols using above manner to select as float64 type, view in var explorer\n",
        "\n",
        "    #Feature Scaling\n",
        "    from sklearn.preprocessing import MinMaxScaler\n",
        "    sc=MinMaxScaler(feature_range=(0,1))#Scaled values btween 0,1\n",
        "    training_set_scaled=sc.fit_transform(training_set)\n",
        "    #In scaling, fit_transform for training, transform for test\n",
        "    \n",
        "    #Creating data stucture with 7 timesteps and 1 output. \n",
        "    #7 timesteps meaning storing trends from 7 days before current day to predict 1 next output\n",
        "    X_train=[]#memory with 7 days from day i\n",
        "    y_train=[]#day i\n",
        "    for i in range(7,len(training_set_scaled)):\n",
        "        X_train.append(training_set_scaled[i-7:i,0])\n",
        "        y_train.append(training_set_scaled[i,0])\n",
        "    #Convert list to numpy arrays\n",
        "    X_train=np.array(X_train)\n",
        "    y_train=np.array(y_train)\n",
        "    X_forecast=np.array(X_train[-1,1:])\n",
        "    X_forecast=np.append(X_forecast,y_train[-1])\n",
        "    #Reshaping: Adding 3rd dimension\n",
        "    X_train=np.reshape(X_train, (X_train.shape[0],X_train.shape[1],1))#.shape 0=row,1=col\n",
        "    X_forecast=np.reshape(X_forecast, (1,X_forecast.shape[0],1))\n",
        "    #For X_train=np.reshape(no. of rows/samples, timesteps, no. of cols/features)\n",
        "    \n",
        "    #Building RNN\n",
        "    from keras.models import Sequential\n",
        "    from keras.layers import Dense\n",
        "    from keras.layers import Dropout\n",
        "    from keras.layers import LSTM\n",
        "    \n",
        "    #Initialise RNN\n",
        "    regressor=Sequential()\n",
        "    \n",
        "    #Add first LSTM layer\n",
        "    regressor.add(LSTM(units=50,return_sequences=True,input_shape=(X_train.shape[1],1)))\n",
        "    #units=no. of neurons in layer\n",
        "    #input_shape=(timesteps,no. of cols/features)\n",
        "    #return_seq=True for sending recc memory. For last layer, retrun_seq=False since end of the line\n",
        "    regressor.add(Dropout(0.1))\n",
        "    \n",
        "    #Add 2nd LSTM layer\n",
        "    regressor.add(LSTM(units=50,return_sequences=True))\n",
        "    regressor.add(Dropout(0.1))\n",
        "    \n",
        "    #Add 3rd LSTM layer\n",
        "    regressor.add(LSTM(units=50,return_sequences=True))\n",
        "    regressor.add(Dropout(0.1))\n",
        "    \n",
        "    #Add 4th LSTM layer\n",
        "    regressor.add(LSTM(units=50))\n",
        "    regressor.add(Dropout(0.1))\n",
        "    \n",
        "    #Add o/p layer\n",
        "    regressor.add(Dense(units=1))\n",
        "    \n",
        "    #Compile\n",
        "    regressor.compile(optimizer='adam',loss='mean_squared_error')\n",
        "    \n",
        "    #Training\n",
        "    regressor.fit(X_train,y_train,epochs=25,batch_size=32 )\n",
        "    #For lstm, batch_size=power of 2\n",
        "    \n",
        "    #Testing\n",
        "    ###dataset_test=pd.read_csv('Google_Stock_Price_Test.csv')\n",
        "    real_stock_price=dataset_test.iloc[:,4:5].values\n",
        "    \n",
        "    #To predict, we need stock prices of 7 days before the test set\n",
        "    #So combine train and test set to get the entire data set\n",
        "    dataset_total=pd.concat((dataset_train['Close'],dataset_test['Close']),axis=0) \n",
        "    testing_set=dataset_total[ len(dataset_total) -len(dataset_test) -7: ].values\n",
        "    testing_set=testing_set.reshape(-1,1)\n",
        "    #-1=till last row, (-1,1)=>(80,1). otherwise only (80,0)\n",
        "    \n",
        "    #Feature scaling\n",
        "    testing_set=sc.transform(testing_set)\n",
        "    \n",
        "    #Create data structure\n",
        "    X_test=[]\n",
        "    for i in range(7,len(testing_set)):\n",
        "        X_test.append(testing_set[i-7:i,0])\n",
        "        #Convert list to numpy arrays\n",
        "    X_test=np.array(X_test)\n",
        "    \n",
        "    #Reshaping: Adding 3rd dimension\n",
        "    X_test=np.reshape(X_test, (X_test.shape[0],X_test.shape[1],1))\n",
        "    \n",
        "    #Testing Prediction\n",
        "    predicted_stock_price=regressor.predict(X_test)\n",
        "    \n",
        "    #Getting original prices back from scaled values\n",
        "    predicted_stock_price=sc.inverse_transform(predicted_stock_price)\n",
        "    fig = plt.figure(figsize=(7.2,4.8),dpi=65)\n",
        "    plt.plot(real_stock_price,label='Actual Price')  \n",
        "    plt.plot(predicted_stock_price,label='Predicted Price')      \n",
        "    plt.legend(loc=4)\n",
        "    \n",
        "    #plt.savefig('static/LSTM.png')\n",
        "    #plt.close(fig)\n",
        "    \n",
        "    \n",
        "    error_lstm = math.sqrt(mean_squared_error(real_stock_price, predicted_stock_price))\n",
        "    \n",
        "    \n",
        "    #Forecasting Prediction\n",
        "    forecasted_stock_price=regressor.predict(X_forecast)\n",
        "    \n",
        "    #Getting original prices back from scaled values\n",
        "    forecasted_stock_price=sc.inverse_transform(forecasted_stock_price)\n",
        "    \n",
        "    lstm_pred=forecasted_stock_price[0,0]\n",
        "    print()\n",
        "    print(\"##############################################################################\")\n",
        "    print(\"Tomorrow's \",quote,\" Closing Price Prediction by LSTM: \",lstm_pred)\n",
        "    print(\"LSTM RMSE:\",error_lstm)\n",
        "    print(\"##############################################################################\")\n",
        "    return lstm_pred,error_lstm"
      ],
      "execution_count": null,
      "outputs": []
    },
    {
      "cell_type": "code",
      "metadata": {
        "id": "ES8iEgS_mu29"
      },
      "source": [
        "#***************** LINEAR REGRESSION SECTION ******************       \n",
        "def LIN_REG_ALGO(df):\n",
        "    #No of days to be forcasted in future\n",
        "    forecast_out = int(7)\n",
        "    #Price after n days\n",
        "    df['Close after n days'] = df['Close'].shift(-forecast_out)\n",
        "    #New df with only relevant data\n",
        "    df_new=df[['Close','Close after n days']]\n",
        "\n",
        "    #Structure data for train, test & forecast\n",
        "    #lables of known data, discard last 35 rows\n",
        "    y =np.array(df_new.iloc[:-forecast_out,-1])\n",
        "    y=np.reshape(y, (-1,1))\n",
        "    #all cols of known data except lables, discard last 35 rows\n",
        "    X=np.array(df_new.iloc[:-forecast_out,0:-1])\n",
        "    #Unknown, X to be forecasted\n",
        "    X_to_be_forecasted=np.array(df_new.iloc[-forecast_out:,0:-1])\n",
        "    \n",
        "    #Traning, testing to plot graphs, check accuracy\n",
        "    X_train=X[0:int(0.8*len(df)),:]\n",
        "    X_test=X[int(0.8*len(df)):,:]\n",
        "    y_train=y[0:int(0.8*len(df)),:]\n",
        "    y_test=y[int(0.8*len(df)):,:]\n",
        "    \n",
        "    # Feature Scaling===Normalization\n",
        "    from sklearn.preprocessing import StandardScaler\n",
        "    sc = StandardScaler()\n",
        "    X_train = sc.fit_transform(X_train)\n",
        "    X_test = sc.transform(X_test)\n",
        "    \n",
        "    X_to_be_forecasted=sc.transform(X_to_be_forecasted)\n",
        "    \n",
        "    #Training\n",
        "    clf = LinearRegression(n_jobs=-1)\n",
        "    clf.fit(X_train, y_train)\n",
        "    \n",
        "    #Testing\n",
        "    y_test_pred=clf.predict(X_test)\n",
        "    y_test_pred=y_test_pred*(1.04)\n",
        "    import matplotlib.pyplot as plt2\n",
        "    fig = plt2.figure(figsize=(7.2,4.8),dpi=65)\n",
        "    plt2.plot(y_test,label='Actual Price' )\n",
        "    plt2.plot(y_test_pred,label='Predicted Price')\n",
        "    \n",
        "    plt2.legend(loc=4)\n",
        "\n",
        "    #plt2.savefig('static/LR.png')\n",
        "    #plt2.close(fig)\n",
        "    \n",
        "    error_lr = math.sqrt(mean_squared_error(y_test, y_test_pred))\n",
        "    \n",
        "    \n",
        "    #Forecasting\n",
        "    forecast_set = clf.predict(X_to_be_forecasted)\n",
        "    forecast_set=forecast_set*(1.04)\n",
        "    mean=forecast_set.mean()\n",
        "    lr_pred=forecast_set[0,0]\n",
        "    print()\n",
        "    print(\"##############################################################################\")\n",
        "    print(\"Tomorrow's \",quote,\" Closing Price Prediction by Linear Regression: \",lr_pred)\n",
        "    print(\"Linear Regression RMSE:\",error_lr)\n",
        "    print(\"##############################################################################\")\n",
        "    return df, lr_pred, forecast_set, mean, error_lr"
      ],
      "execution_count": null,
      "outputs": []
    },
    {
      "cell_type": "code",
      "metadata": {
        "id": "bF0_CXshm360"
      },
      "source": [
        "quote = 'BOE.L'"
      ],
      "execution_count": null,
      "outputs": []
    },
    {
      "cell_type": "code",
      "metadata": {
        "colab": {
          "base_uri": "https://localhost:8080/"
        },
        "id": "HgPdbn2nrdeD",
        "outputId": "cff8de60-6d62-4517-8c09-f00c56c5e95f"
      },
      "source": [
        "get_historical(quote)\n",
        "#************** PREPROCESSING ***********************\n",
        "df = pd.read_csv(''+quote+'.csv')\n",
        "print(\"##############################################################################\")\n",
        "print(\"Today's\",quote,\"Stock Data: \")\n",
        "today_stock=df.iloc[-1:]\n",
        "print(today_stock)\n",
        "print(\"##############################################################################\")\n",
        "df = df.dropna()\n",
        "code_list=[]\n",
        "for i in range(0,len(df)):\n",
        "    code_list.append(quote)\n",
        "df2=pd.DataFrame(code_list,columns=['Code'])\n",
        "df2 = pd.concat([df2, df], axis=1)\n",
        "df=df2"
      ],
      "execution_count": null,
      "outputs": [
        {
          "output_type": "stream",
          "text": [
            "\r[*********************100%***********************]  1 of 1 completed\n",
            "##############################################################################\n",
            "Today's BOE.L Stock Data: \n",
            "           Date        Open        High         Low  Close  Adj Close  Volume\n",
            "504  2021-04-07  254.910004  255.280701  250.929993  258.5      258.5   11196\n",
            "##############################################################################\n"
          ],
          "name": "stdout"
        }
      ]
    },
    {
      "cell_type": "code",
      "metadata": {
        "colab": {
          "base_uri": "https://localhost:8080/",
          "height": 628
        },
        "id": "aWzJNU6ituoS",
        "outputId": "d2137faa-4cfd-4dc4-bc2b-94448de1b160"
      },
      "source": [
        "arima_pred, error_arima=ARIMA_ALGO(df)"
      ],
      "execution_count": null,
      "outputs": [
        {
          "output_type": "stream",
          "text": [
            "\n",
            "##############################################################################\n",
            "Tomorrow's BOE.L  Closing Price Prediction by ARIMA: 259.1568924815567\n",
            "ARIMA RMSE: 7.358341546772942\n",
            "##############################################################################\n"
          ],
          "name": "stdout"
        },
        {
          "output_type": "display_data",
          "data": {
            "image/png": "[encoded data removed]",
            "text/plain": [
              "<Figure size 468x312 with 1 Axes>"
            ]
          },
          "metadata": {
            "tags": [],
            "needs_background": "light"
          }
        },
        {
          "output_type": "display_data",
          "data": {
            "image/png": "[encoded data removed]",
            "text/plain": [
              "<Figure size 468x312 with 1 Axes>"
            ]
          },
          "metadata": {
            "tags": [],
            "needs_background": "light"
          }
        }
      ]
    },
    {
      "cell_type": "code",
      "metadata": {
        "colab": {
          "base_uri": "https://localhost:8080/",
          "height": 1000
        },
        "id": "AUxiAlaFwUI6",
        "outputId": "feb3772e-df22-48d0-f8ef-0a475bd36a56"
      },
      "source": [
        "lstm_pred, error_lstm=LSTM_ALGO(df)"
      ],
      "execution_count": null,
      "outputs": [
        {
          "output_type": "stream",
          "text": [
            "Epoch 1/25\n",
            "16/16 [==============================] - 9s 20ms/step - loss: 0.2732\n",
            "Epoch 2/25\n",
            "16/16 [==============================] - 0s 20ms/step - loss: 0.0506\n",
            "Epoch 3/25\n",
            "16/16 [==============================] - 0s 19ms/step - loss: 0.0213\n",
            "Epoch 4/25\n",
            "16/16 [==============================] - 0s 19ms/step - loss: 0.0088\n",
            "Epoch 5/25\n",
            "16/16 [==============================] - 0s 19ms/step - loss: 0.0055\n",
            "Epoch 6/25\n",
            "16/16 [==============================] - 0s 19ms/step - loss: 0.0070\n",
            "Epoch 7/25\n",
            "16/16 [==============================] - 0s 19ms/step - loss: 0.0064\n",
            "Epoch 8/25\n",
            "16/16 [==============================] - 0s 20ms/step - loss: 0.0075\n",
            "Epoch 9/25\n",
            "16/16 [==============================] - 0s 22ms/step - loss: 0.0077\n",
            "Epoch 10/25\n",
            "16/16 [==============================] - 0s 18ms/step - loss: 0.0057\n",
            "Epoch 11/25\n",
            "16/16 [==============================] - 0s 20ms/step - loss: 0.0066\n",
            "Epoch 12/25\n",
            "16/16 [==============================] - 0s 19ms/step - loss: 0.0055\n",
            "Epoch 13/25\n",
            "16/16 [==============================] - 0s 19ms/step - loss: 0.0067\n",
            "Epoch 14/25\n",
            "16/16 [==============================] - 0s 18ms/step - loss: 0.0051\n",
            "Epoch 15/25\n",
            "16/16 [==============================] - 0s 20ms/step - loss: 0.0060\n",
            "Epoch 16/25\n",
            "16/16 [==============================] - 0s 20ms/step - loss: 0.0060\n",
            "Epoch 17/25\n",
            "16/16 [==============================] - 0s 20ms/step - loss: 0.0063\n",
            "Epoch 18/25\n",
            "16/16 [==============================] - 0s 20ms/step - loss: 0.0058\n",
            "Epoch 19/25\n",
            "16/16 [==============================] - 0s 19ms/step - loss: 0.0059\n",
            "Epoch 20/25\n",
            "16/16 [==============================] - 0s 19ms/step - loss: 0.0066\n",
            "Epoch 21/25\n",
            "16/16 [==============================] - 0s 20ms/step - loss: 0.0076\n",
            "Epoch 22/25\n",
            "16/16 [==============================] - 0s 20ms/step - loss: 0.0068\n",
            "Epoch 23/25\n",
            "16/16 [==============================] - 0s 19ms/step - loss: 0.0060\n",
            "Epoch 24/25\n",
            "16/16 [==============================] - 0s 19ms/step - loss: 0.0057\n",
            "Epoch 25/25\n",
            "16/16 [==============================] - 0s 20ms/step - loss: 0.0061\n",
            "\n",
            "##############################################################################\n",
            "Tomorrow's  BOE.L  Closing Price Prediction by LSTM:  237.79263\n",
            "LSTM RMSE: 12.660573477873198\n",
            "##############################################################################\n"
          ],
          "name": "stdout"
        },
        {
          "output_type": "display_data",
          "data": {
            "image/png": "[encoded data removed]",
            "text/plain": [
              "<Figure size 468x312 with 1 Axes>"
            ]
          },
          "metadata": {
            "tags": [],
            "needs_background": "light"
          }
        }
      ]
    },
    {
      "cell_type": "code",
      "metadata": {
        "colab": {
          "base_uri": "https://localhost:8080/",
          "height": 365
        },
        "id": "wFUIDXycxyT0",
        "outputId": "5051dde6-5854-459c-bf99-3c243372aad1"
      },
      "source": [
        " df, lr_pred, forecast_set,mean,error_lr=LIN_REG_ALGO(df)"
      ],
      "execution_count": null,
      "outputs": [
        {
          "output_type": "stream",
          "text": [
            "\n",
            "##############################################################################\n",
            "Tomorrow's  BOE.L  Closing Price Prediction by Linear Regression:  254.70342539732232\n",
            "Linear Regression RMSE: 15.1575392313805\n",
            "##############################################################################\n"
          ],
          "name": "stdout"
        },
        {
          "output_type": "display_data",
          "data": {
            "image/png": "[encoded data removed]",
            "text/plain": [
              "<Figure size 468x312 with 1 Axes>"
            ]
          },
          "metadata": {
            "tags": [],
            "needs_background": "light"
          }
        }
      ]
    },
    {
      "cell_type": "code",
      "metadata": {
        "id": "vbntuxUnyHb4"
      },
      "source": [
        "#Twitter API credentials\n",
        "consumer_key= 'J8byEqCJVeadFYXaXXpxB0XPA'\n",
        "consumer_secret= 'BtCnypxBLpOcjmH40o6sdeFkVtkEVN9ETZVj0fjLyR6kBMAduJ'\n",
        "\n",
        "access_token='593352028-586dxldnHIrPKM2aSfsq0yJBwe9ulEQNk6LWMlln'\n",
        "access_token_secret='JOnyIQx4oiR96Sp72vMQwZFJRdoOy2dtCXZqS7kbyrV2k'\n",
        "\n",
        "num_of_tweets = int(300)"
      ],
      "execution_count": null,
      "outputs": []
    },
    {
      "cell_type": "code",
      "metadata": {
        "colab": {
          "base_uri": "https://localhost:8080/"
        },
        "id": "YYN33XawKX21",
        "outputId": "31eef540-edf8-4639-bc95-f354a4d73174"
      },
      "source": [
        "#Setting up modules for Tweepy\n",
        "import tweepy\n",
        "from textblob import TextBlob\n",
        "import nltk\n",
        "nltk.download('punkt')\n",
        "class Tweet(object):\n",
        "\n",
        "    def __init__(self, content, polarity):\n",
        "        self.content = content\n",
        "        self.polarity = polarity"
      ],
      "execution_count": null,
      "outputs": [
        {
          "output_type": "stream",
          "text": [
            "[nltk_data] Downloading package punkt to /root/nltk_data...\n",
            "[nltk_data]   Unzipping tokenizers/punkt.zip.\n"
          ],
          "name": "stderr"
        }
      ]
    },
    {
      "cell_type": "code",
      "metadata": {
        "id": "cn_Zni92LKW6"
      },
      "source": [
        "#------------SENTIMENT ANALYSIS------------------\n",
        "def retrieving_tweets_polarity(symbol):\n",
        "    stock_ticker_map = pd.read_csv('Yahoo-Finance-Ticker-Symbols.csv')\n",
        "    stock_full_form = stock_ticker_map[stock_ticker_map['Ticker']==symbol]\n",
        "    symbol = stock_full_form['Name'].to_list()[0][0:12]\n",
        "\n",
        "    auth = tweepy.OAuthHandler(consumer_key, consumer_secret)\n",
        "    auth.set_access_token(access_token, access_token_secret)\n",
        "    user = tweepy.API(auth)\n",
        "    \n",
        "    tweets = tweepy.Cursor(user.search, q=symbol, tweet_mode='extended', lang='en',exclude_replies=True).items(num_of_tweets)\n",
        "    \n",
        "    tweet_list = [] #List of tweets alongside polarity\n",
        "    global_polarity = 0 #Polarity of all tweets === Sum of polarities of individual tweets\n",
        "    tw_list=[] #List of tweets only => to be displayed on web page\n",
        "    #Count Positive, Negative to plot pie chart\n",
        "    pos=0 #Num of pos tweets\n",
        "    neg=1 #Num of negative tweets\n",
        "    for tweet in tweets:\n",
        "        count=20 #Num of tweets to be displayed on web page\n",
        "        #Convert to Textblob format for assigning polarity\n",
        "        tw2 = tweet.full_text\n",
        "        tw = tweet.full_text\n",
        "        #Clean\n",
        "        tw=p.clean(tw)\n",
        "        #print(\"-------------------------------CLEANED TWEET-----------------------------\")\n",
        "        #print(tw)\n",
        "        #Replace &amp; by &\n",
        "        tw=re.sub('&amp;','&',tw)\n",
        "        #Remove :\n",
        "        tw=re.sub(':','',tw)\n",
        "        #print(\"-------------------------------TWEET AFTER REGEX MATCHING-----------------------------\")\n",
        "        #print(tw)\n",
        "        #Remove Emojis and Hindi Characters\n",
        "        tw=tw.encode('ascii', 'ignore').decode('ascii')\n",
        "\n",
        "        #print(\"-------------------------------TWEET AFTER REMOVING NON ASCII CHARS-----------------------------\")\n",
        "        #print(tw)\n",
        "        blob = TextBlob(tw)\n",
        "        polarity = 0 #Polarity of single individual tweet\n",
        "        for sentence in blob.sentences:\n",
        "                \n",
        "            polarity += sentence.sentiment.polarity\n",
        "            if polarity>0:\n",
        "                pos=pos+1\n",
        "            if polarity<0:\n",
        "                neg=neg+1\n",
        "            \n",
        "            global_polarity += sentence.sentiment.polarity\n",
        "        if count > 0:\n",
        "            tw_list.append(tw2)\n",
        "            \n",
        "        tweet_list.append(Tweet(tw, polarity))\n",
        "        count=count-1\n",
        "    if len(tweet_list) != 0:\n",
        "        global_polarity = global_polarity / len(tweet_list)\n",
        "    else:\n",
        "        global_polarity = global_polarity\n",
        "    neutral=num_of_tweets-pos-neg\n",
        "    if neutral<0:\n",
        "      neg=neg+neutral\n",
        "      neutral=20\n",
        "    print()\n",
        "    print(\"##############################################################################\")\n",
        "    print(\"Positive Tweets :\",pos,\"Negative Tweets :\",neg,\"Neutral Tweets :\",neutral)\n",
        "    print(\"##############################################################################\")\n",
        "    labels=['Positive','Negative','Neutral']\n",
        "    sizes = [pos,neg,neutral]\n",
        "    explode = (0, 0, 0)\n",
        "    fig = plt.figure(figsize=(7.2,4.8),dpi=65)\n",
        "    fig1, ax1 = plt.subplots(figsize=(7.2,4.8),dpi=65)\n",
        "    ax1.pie(sizes, explode=explode, labels=labels, autopct='%1.1f%%', startangle=90)\n",
        "    # Equal aspect ratio ensures that pie is drawn as a circle\n",
        "    ax1.axis('equal')  \n",
        "    plt.tight_layout()\n",
        "    #plt.savefig('static/SA.png')\n",
        "    #plt.close(fig)\n",
        "    plt.show()\n",
        "    if global_polarity>0:\n",
        "        print()\n",
        "        print(\"##############################################################################\")\n",
        "        print(\"Tweets Polarity: Overall Positive\")\n",
        "        print(\"##############################################################################\")\n",
        "        tw_pol=\"Overall Positive\"\n",
        "    else:\n",
        "        print()\n",
        "        print(\"##############################################################################\")\n",
        "        print(\"Tweets Polarity: Overall Negative\")\n",
        "        print(\"##############################################################################\")\n",
        "        tw_pol=\"Overall Negative\"\n",
        "    \n",
        "    \n",
        "    return global_polarity,tw_list,tw_pol,pos,neg,neutral"
      ],
      "execution_count": null,
      "outputs": []
    },
    {
      "cell_type": "code",
      "metadata": {
        "id": "MR88YTdaL_FD"
      },
      "source": [
        "#---------RECOMENDATIONS BASED ON TWEETS & Models-------------------\n",
        "def recommending(df, global_polarity,today_stock,mean):\n",
        "    if today_stock.iloc[-1]['Close'] < mean:\n",
        "        if global_polarity > 0:\n",
        "            idea=\"RISE\"\n",
        "            decision=\"BUY\"\n",
        "            print()\n",
        "            print(\"##############################################################################\")\n",
        "            print(\"According to the ML Predictions and Sentiment Analysis of Tweets, a\",idea,\"in\",quote,\"stock is expected => \",decision)\n",
        "        elif global_polarity <= 0:\n",
        "            idea=\"FALL\"\n",
        "            decision=\"SELL\"\n",
        "            print()\n",
        "            print(\"##############################################################################\")\n",
        "            print(\"According to the ML Predictions and Sentiment Analysis of Tweets, a\",idea,\"in\",quote,\"stock is expected => \",decision)\n",
        "    else:\n",
        "        idea=\"FALL\"\n",
        "        decision=\"SELL\"\n",
        "        print()\n",
        "        print(\"##############################################################################\")\n",
        "        print(\"According to the ML Predictions and Sentiment Analysis of Tweets, a\",idea,\"in\",quote,\"stock is expected => \",decision)\n",
        "    return idea, decision"
      ],
      "execution_count": null,
      "outputs": []
    },
    {
      "cell_type": "code",
      "metadata": {
        "colab": {
          "base_uri": "https://localhost:8080/",
          "height": 475
        },
        "id": "Fc-_YEuUMPGJ",
        "outputId": "d8d3ffcd-6cfd-4b10-b26f-a3b99b3bd68d"
      },
      "source": [
        "#Showing sentiment analysis\n",
        "polarity,tw_list,tw_pol,pos,neg,neutral = retrieving_tweets_polarity(quote)\n"
      ],
      "execution_count": null,
      "outputs": [
        {
          "output_type": "stream",
          "text": [
            "\n",
            "##############################################################################\n",
            "Positive Tweets : 39 Negative Tweets : 63 Neutral Tweets : 198\n",
            "##############################################################################\n"
          ],
          "name": "stdout"
        },
        {
          "output_type": "display_data",
          "data": {
            "text/plain": [
              "<Figure size 468x312 with 0 Axes>"
            ]
          },
          "metadata": {
            "tags": []
          }
        },
        {
          "output_type": "display_data",
          "data": {
            "image/png": "[encoded data removed]",
            "text/plain": [
              "<Figure size 468x312 with 1 Axes>"
            ]
          },
          "metadata": {
            "tags": []
          }
        },
        {
          "output_type": "stream",
          "text": [
            "\n",
            "##############################################################################\n",
            "Tweets Polarity: Overall Positive\n",
            "##############################################################################\n"
          ],
          "name": "stdout"
        }
      ]
    },
    {
      "cell_type": "code",
      "metadata": {
        "colab": {
          "base_uri": "https://localhost:8080/"
        },
        "id": "pBU7Jm_GMgGL",
        "outputId": "190452a2-a803-424a-e813-bdb635385e75"
      },
      "source": [
        "idea, decision=recommending(df, polarity,today_stock,mean)\n",
        "print()\n",
        "print(\"Forecasted Prices for Next 7 days:\")\n",
        "print(forecast_set)"
      ],
      "execution_count": null,
      "outputs": [
        {
          "output_type": "stream",
          "text": [
            "\n",
            "##############################################################################\n",
            "According to the ML Predictions and Sentiment Analysis of Tweets, a RISE in BOE.L stock is expected =>  BUY\n",
            "\n",
            "Forecasted Prices for Next 7 days:\n",
            "[[254.7034254 ]\n",
            " [258.46416704]\n",
            " [255.02719534]\n",
            " [265.76152411]\n",
            " [267.15623242]\n",
            " [263.66944645]\n",
            " [266.65812014]]\n"
          ],
          "name": "stdout"
        }
      ]
    },
    {
      "cell_type": "code",
      "metadata": {
        "id": "vdEb5TxAOEUl"
      },
      "source": [
        ""
      ],
      "execution_count": null,
      "outputs": []
    }
  ]
}